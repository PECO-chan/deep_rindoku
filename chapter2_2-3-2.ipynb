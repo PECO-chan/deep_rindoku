{
 "cells": [
  {
   "cell_type": "markdown",
   "metadata": {},
   "source": [
    "# **Chapter2** (2.3) 統計入門"
   ]
  },
  {
   "cell_type": "markdown",
   "metadata": {},
   "source": [
    "***"
   ]
  },
  {
   "cell_type": "markdown",
   "metadata": {},
   "source": [
    "## (2.3.2) 不偏性、有効性、一致性"
   ]
  },
  {
   "cell_type": "code",
   "execution_count": 1,
   "metadata": {},
   "outputs": [],
   "source": [
    "import numpy as np"
   ]
  },
  {
   "cell_type": "markdown",
   "metadata": {},
   "source": [
    "確率変数 x は正規分布（平均50, 標準偏差30）に従ってランダムに発生する</br>\n",
    "⇒でも現実には x がどんな分布から発生しているかは分からないので、データから分布を推定したい\n",
    "\n",
    "x の実現値として10個のデータ点が観測されたデータ（標本、サンプル）をXとする"
   ]
  },
  {
   "cell_type": "code",
   "execution_count": 2,
   "metadata": {},
   "outputs": [
    {
     "data": {
      "text/plain": [
       "array([21.22649281, 97.96649137, 24.63587376, 71.37165161, 24.14400776,\n",
       "       44.42787689, 26.43511141,  4.83255592, 73.71141528,  0.27950329])"
      ]
     },
     "execution_count": 2,
     "metadata": {},
     "output_type": "execute_result"
    }
   ],
   "source": [
    "X = np.random.normal(50, 30, 10)\n",
    "X"
   ]
  },
  {
   "cell_type": "markdown",
   "metadata": {},
   "source": [
    "</br>"
   ]
  },
  {
   "cell_type": "markdown",
   "metadata": {},
   "source": [
    "Xを用いてxが従う分布の母平均muを推定したい</br>\n",
    "0. **適切な推定量**として、直感的には**算術平均**が考えられる"
   ]
  },
  {
   "cell_type": "code",
   "execution_count": 3,
   "metadata": {},
   "outputs": [
    {
     "name": "stdout",
     "output_type": "stream",
     "text": [
      "mu_hat0: 38.90309801011666\n"
     ]
    }
   ],
   "source": [
    "mu_hat0 = np.mean(X)\n",
    "print(f\"mu_hat0: {mu_hat0}\")"
   ]
  },
  {
   "cell_type": "markdown",
   "metadata": {},
   "source": [
    "</br>"
   ]
  },
  {
   "cell_type": "markdown",
   "metadata": {},
   "source": [
    "**推定量**としては、他にどんなものが考えられるか？</br>\n",
    "1. Xの要素 **x0** （母平均muの分布からの実現値）</br>\n",
    "2. **x1とx2の平均**（データ点の数に関わらず、2つのデータ点を平均）"
   ]
  },
  {
   "cell_type": "code",
   "execution_count": 4,
   "metadata": {},
   "outputs": [
    {
     "name": "stdout",
     "output_type": "stream",
     "text": [
      "mu_hat1: 21.226492811708138\n",
      "mu_hat2: 61.30118256075913\n"
     ]
    }
   ],
   "source": [
    "print(f\"mu_hat1: {X[0]}\")\n",
    "print(f\"mu_hat2: {(X[1]+X[2])/2}\")"
   ]
  },
  {
   "cell_type": "markdown",
   "metadata": {},
   "source": [
    "</br>"
   ]
  },
  {
   "cell_type": "markdown",
   "metadata": {},
   "source": [
    "**推定量0～2**の中で、一番良い推定量はどれか？</br>\n",
    "**不偏性**、**有効性**、**一致性**の観点から判断していく"
   ]
  },
  {
   "cell_type": "markdown",
   "metadata": {},
   "source": [
    "</br>"
   ]
  },
  {
   "cell_type": "markdown",
   "metadata": {},
   "source": [
    "### 不偏性"
   ]
  },
  {
   "cell_type": "markdown",
   "metadata": {},
   "source": [
    "**推定量は確率変数**</br>\n",
    "推定量の実現値＝パラメータの推定値（ここでは分布の母平均の推定値）は、データXが与えられて初めて計算できる</br>\n",
    "（Xの中身が変われば、推定値も変化する）</br>\n",
    "推定量は確率変数なので、推定量にも分布がある（期待値とか分散を計算できる）</br>\n",
    "</br>\n",
    "Xが繰り返し取得可能だとすれば（現実世界ではデータを何回も取得というのは考えにくいが）、推定量もその度に取得（計算）できるイメージ"
   ]
  },
  {
   "cell_type": "markdown",
   "metadata": {},
   "source": [
    "**不偏性**</br>\n",
    "*E(θ) = θ* *</br>\n",
    "（「期待値が真の値に一致する」推定量を、不偏推定量と呼ぶ）"
   ]
  },
  {
   "cell_type": "code",
   "execution_count": 5,
   "metadata": {},
   "outputs": [],
   "source": [
    "import matplotlib.pyplot as plt"
   ]
  },
  {
   "cell_type": "code",
   "execution_count": 6,
   "metadata": {},
   "outputs": [],
   "source": [
    "mu = 50\n",
    "dev = 30\n",
    "N = 10\n",
    "rep = 10000"
   ]
  },
  {
   "cell_type": "code",
   "execution_count": 7,
   "metadata": {},
   "outputs": [],
   "source": [
    "theta_lists = [[] for i in range(3)]\n",
    "for i in range(rep):\n",
    "    X = np.random.normal(mu, dev, N)\n",
    "    theta_lists[0].append(np.mean(X))\n",
    "    theta_lists[1].append(X[0])\n",
    "    theta_lists[2].append((X[1]+X[2])/2)"
   ]
  },
  {
   "cell_type": "code",
   "execution_count": 8,
   "metadata": {},
   "outputs": [
    {
     "data": {
      "image/png": "[encoded data removed]",
      "text/plain": [
       "<Figure size 1152x288 with 3 Axes>"
      ]
     },
     "metadata": {
      "needs_background": "light"
     },
     "output_type": "display_data"
    }
   ],
   "source": [
    "titles = [\"theta_0: mean\", \"theta_1: x0\", \"theta_2: (x1+x2)/2\"]\n",
    "fig, ax = plt.subplots(1, 3, figsize=(16,4))\n",
    "for i in range(3):\n",
    "    ax[i].set_title(titles[i])\n",
    "    ax[i].hist(theta_lists[i], bins=int(round(1+np.log2(rep))))\n",
    "    ax[i].axvline(mu, ls=\"--\", color=\"red\")#真の値⇒赤の破線 \n",
    "plt.show()"
   ]
  },
  {
   "cell_type": "markdown",
   "metadata": {},
   "source": [
    "期待値を実際に計算すれば分かるが、推定量0~2の期待値は全て母平均(=50)に一致する。</br>\n",
    "つまり、**推定量0~2は全て\"不偏推定量\"**である（上のシミュレーションでも、50を中心としたヒストグラムになっている）</br>\n",
    "推定量1,2のような、推定量として相応しくなさそうなものも不偏推定量になっている"
   ]
  },
  {
   "cell_type": "markdown",
   "metadata": {},
   "source": [
    "</br>"
   ]
  },
  {
   "cell_type": "markdown",
   "metadata": {},
   "source": [
    "ちなみに、不偏でない推定量の具体例としては標本分散が挙げられる"
   ]
  },
  {
   "cell_type": "code",
   "execution_count": 9,
   "metadata": {},
   "outputs": [],
   "source": [
    "var_lists = [[] for i in range(3)]\n",
    "for i in range(rep):\n",
    "    X = np.random.normal(mu, dev, N)\n",
    "    var_lists[0].append(sum(np.square(X-np.mean(X)))/(N-1))#不偏分散\n",
    "    var_lists[1].append(sum(np.square(X-np.mean(X)))/N)#標本分散"
   ]
  },
  {
   "cell_type": "code",
   "execution_count": 10,
   "metadata": {},
   "outputs": [
    {
     "data": {
      "image/png": "[encoded data removed]",
      "text/plain": [
       "<Figure size 1152x288 with 2 Axes>"
      ]
     },
     "metadata": {
      "needs_background": "light"
     },
     "output_type": "display_data"
    }
   ],
   "source": [
    "titles_ = [\"theta_0: unbiased Variance estimator\", \"theta_1: biased Variance estimator\"]\n",
    "fig, ax = plt.subplots(1, 2, figsize=(16,4))\n",
    "for i in range(2):\n",
    "    ax[i].set_title(titles_[i])\n",
    "    ax[i].hist(var_lists[i], bins=int(round(1+np.log2(rep))))\n",
    "    ax[i].axvline(dev**2, ls=\"--\", color=\"red\", label=f\"True(={dev**2})\") #真の値⇒赤の破線 \n",
    "    ax[i].axvline(np.mean(var_lists[i]), ls=\"--\", color=\"orange\",\n",
    "                  label=f\"est_mean(={int(np.mean(var_lists[i]))})\") #推定値の平均値⇒オレンジの破線\n",
    "    ax[i].legend(loc=\"upper right\")\n",
    "plt.show()"
   ]
  },
  {
   "cell_type": "markdown",
   "metadata": {},
   "source": [
    "結果、標本分散は真の分散を過小評価している（分散をリスクと捉えるような場面では、特に過小評価は望ましくない）。</br>\n",
    "実際に標本分散の期待値を計算をすると、真の値を(1-1/N)だけ過小評価している。</br>（今回の例では、推定値が真の値の90%くらいになってしまう）</br>\n",
    "</br>\n",
    "ただし標本分散は後述の一致推定量であり、また漸近不偏推定量でもあるので、特に間違いというものではない（小標本ならNG）"
   ]
  },
  {
   "cell_type": "markdown",
   "metadata": {},
   "source": [
    "</br>"
   ]
  },
  {
   "cell_type": "markdown",
   "metadata": {},
   "source": [
    "### 有効性"
   ]
  },
  {
   "cell_type": "markdown",
   "metadata": {},
   "source": [
    "推定量の**分散が小さい**ほど、**より有効な**推定量とされる"
   ]
  },
  {
   "cell_type": "markdown",
   "metadata": {},
   "source": [
    "ヒストグラムを密度で描き直して重ねると、、"
   ]
  },
  {
   "cell_type": "code",
   "execution_count": 11,
   "metadata": {},
   "outputs": [
    {
     "data": {
      "image/png": "[encoded data removed]",
      "text/plain": [
       "<Figure size 432x288 with 1 Axes>"
      ]
     },
     "metadata": {
      "needs_background": "light"
     },
     "output_type": "display_data"
    }
   ],
   "source": [
    "for i in range(3):\n",
    "    plt.hist(theta_lists[i], bins=int(round(1+np.log2(rep))),\n",
    "             density=True, histtype='step',\n",
    "             linewidth=1.2, label=titles[i])\n",
    "plt.axvline(mu, linestyle='--', color=\"red\", linewidth=0.8)\n",
    "plt.legend(loc=\"upper right\")\n",
    "plt.show()"
   ]
  },
  {
   "cell_type": "markdown",
   "metadata": {},
   "source": [
    "同じ不偏推定量であっても、より有効な推定量はやはり推定量0（全データ点の平均）であった。</br>\n",
    "推定量0~2の分散を計算すると、確率変数 x の分散（母分散=900）から1/Nのオーダーで分散が小さくなっていくことがわかる"
   ]
  },
  {
   "cell_type": "code",
   "execution_count": 12,
   "metadata": {},
   "outputs": [
    {
     "name": "stdout",
     "output_type": "stream",
     "text": [
      "True Variance = 900\n",
      "theta_0(var)(N(=10) samples mean estimator) = 90.74511876585362\n",
      "theta_1(var)(1      sample  mean estimator) = 876.38151159165\n",
      "theta_2(var)(2      samples mean estimator) = 457.22926776119135\n"
     ]
    }
   ],
   "source": [
    "print(f\"True Variance = {dev**2}\")\n",
    "print(f\"theta_0(var)(N(=10) samples mean estimator) = {np.var(theta_lists[0])}\")\n",
    "print(f\"theta_1(var)(1      sample  mean estimator) = {np.var(theta_lists[1])}\")\n",
    "print(f\"theta_2(var)(2      samples mean estimator) = {np.var(theta_lists[2])}\")"
   ]
  },
  {
   "cell_type": "markdown",
   "metadata": {},
   "source": [
    "</br>"
   ]
  },
  {
   "cell_type": "markdown",
   "metadata": {},
   "source": [
    "### 一致性"
   ]
  },
  {
   "cell_type": "markdown",
   "metadata": {},
   "source": [
    "データ点の数が増えるにつれて、推定量が真の値に近づいていく（確率収束するというものらしい）</br>\n",
    "*θ^ ⇒ θ* * *(N ⇒ ∞)*</br>"
   ]
  },
  {
   "cell_type": "markdown",
   "metadata": {},
   "source": [
    "N = 10 から、30, 100と取得するデータ点を増やしていく"
   ]
  },
  {
   "cell_type": "code",
   "execution_count": 13,
   "metadata": {},
   "outputs": [],
   "source": [
    "N_list = [10, 30, 100]\n",
    "theta_lists = [[[] for i in range(len(N_list))] for i in range(3)]\n",
    "for i in range(len(N_list)):\n",
    "    for j in range(rep):\n",
    "        X = np.random.normal(mu, dev, N_list[i])\n",
    "        theta_lists[0][i].append(np.mean(X))\n",
    "        theta_lists[1][i].append(X[0])\n",
    "        theta_lists[2][i].append((X[1]+X[2])/2)"
   ]
  },
  {
   "cell_type": "code",
   "execution_count": 14,
   "metadata": {},
   "outputs": [
    {
     "data": {
      "image/png": "[encoded data removed]",
      "text/plain": [
       "<Figure size 1152x288 with 3 Axes>"
      ]
     },
     "metadata": {
      "needs_background": "light"
     },
     "output_type": "display_data"
    }
   ],
   "source": [
    "titles = [\"theta_0: mean\", \"theta_1: x0\", \"theta_2: (x1+x2)/2\"]\n",
    "fig, ax = plt.subplots(1, 3, figsize=(16,4))\n",
    "for i in range(3):\n",
    "    ax[i].set_title(titles[i])\n",
    "    for j in range(len(N_list)):\n",
    "        ax[i].hist(theta_lists[i][j], bins=int(round(1+np.log2(rep))),\n",
    "                   density=True, histtype='step',\n",
    "                   linewidth=1.2, label=f\"N = {N_list[j]}\")\n",
    "    ax[i].axvline(mu, ls=\"--\", color=\"red\", linewidth=0.8)#真の値⇒赤の破線 \n",
    "    ax[i].legend(loc=\"upper right\")\n",
    "plt.show()"
   ]
  },
  {
   "cell_type": "markdown",
   "metadata": {},
   "source": [
    "この例は、一致性の良い例ではないかもしれない。</br>\n",
    "どれも不偏推定量なので、Nが大きくなるほど分散が0に近づく推定量であれば一致推定量である（この例では推定量0のみ）</br>\n",
    "不偏でない推定量でも、一致性があるものはあるはず（標本分散も一例。漸近不偏性はあるけど）</br>\n",
    "</br>\n",
    "推定量1,2は、データ点の数Nの影響を受けないので、一致推定量とはなり得ない。</br>\n",
    "</br>\n",
    "一致性が、推定量として望まれる性質の中で最も前提になるものだと思う。（データが増えるほど推定精度が上がる推定量が望ましいに決まっている）</br>\n",
    "続いて、漸近不偏性がある中で、より分散の小さい推定量が望ましい、はず"
   ]
  },
  {
   "cell_type": "code",
   "execution_count": null,
   "metadata": {},
   "outputs": [],
   "source": []
  }
 ],
 "metadata": {
  "kernelspec": {
   "display_name": "Python 3",
   "language": "python",
   "name": "python3"
  },
  "language_info": {
   "codemirror_mode": {
    "name": "ipython",
    "version": 3
   },
   "file_extension": ".py",
   "mimetype": "text/x-python",
   "name": "python",
   "nbconvert_exporter": "python",
   "pygments_lexer": "ipython3",
   "version": "3.7.3"
  }
 },
 "nbformat": 4,
 "nbformat_minor": 2
}
