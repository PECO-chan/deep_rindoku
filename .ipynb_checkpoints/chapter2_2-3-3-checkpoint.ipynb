{
 "cells": [
  {
   "cell_type": "markdown",
   "metadata": {},
   "source": [
    "# **Chapter2** (2.3) 統計入門"
   ]
  },
  {
   "cell_type": "markdown",
   "metadata": {},
   "source": [
    "***"
   ]
  },
  {
   "cell_type": "markdown",
   "metadata": {},
   "source": [
    "## (2.3.3) 最尤推定"
   ]
  },
  {
   "cell_type": "markdown",
   "metadata": {},
   "source": [
    "### ベルヌーイ分布"
   ]
  },
  {
   "cell_type": "markdown",
   "metadata": {},
   "source": [
    "**表が出る確率が p の特殊なコイン**があるとし、このコインを**10回投げて表が8回出た**とき、pを最尤法で推定することを考える。"
   ]
  },
  {
   "cell_type": "markdown",
   "metadata": {},
   "source": [
    "pが低くても10回の試行くらいでは偶然表が8回出るかもしれない。しかし、**表が8回出たというデータが観測されたとき** p=0.8 以上に妥当な**（もっともらしい（尤もらしい））**推定があるのだろうか……"
   ]
  },
  {
   "cell_type": "markdown",
   "metadata": {},
   "source": [
    "#### 確率と尤度、そして最尤法（イメージ版）"
   ]
  },
  {
   "cell_type": "code",
   "execution_count": 1,
   "metadata": {},
   "outputs": [],
   "source": [
    "import numpy as np\n",
    "import pandas as pd\n",
    "import matplotlib.pyplot as plt\n",
    "from scipy.special import comb"
   ]
  },
  {
   "cell_type": "code",
   "execution_count": 2,
   "metadata": {},
   "outputs": [
    {
     "name": "stdout",
     "output_type": "stream",
     "text": [
      "p_list: [0.1 0.2 0.3 0.4 0.5 0.6 0.7 0.8 0.9]\n",
      "k_list: [ 0  1  2  3  4  5  6  7  8  9 10]\n"
     ]
    }
   ],
   "source": [
    "N = 10\n",
    "p_list = np.arange(1, 10)/10 #浮動小数点への対策\n",
    "k_list = np.arange(0, N+1)\n",
    "print(f\"p_list: {p_list}\") #表が出る確率 p の候補\n",
    "print(f\"k_list: {k_list}\") #表が出た回数 k のパターン"
   ]
  },
  {
   "cell_type": "code",
   "execution_count": 3,
   "metadata": {},
   "outputs": [
    {
     "data": {
      "text/html": [
       "<style  type=\"text/css\" >\n",
       "    #T_ee1c216c_91d7_11e9_a08c_b8ee654a1990row0_col8 {\n",
       "            width:  10em;\n",
       "             height:  80%;\n",
       "        }    #T_ee1c216c_91d7_11e9_a08c_b8ee654a1990row1_col8 {\n",
       "            width:  10em;\n",
       "             height:  80%;\n",
       "            background:  linear-gradient(90deg,#d65f5f 0.0%, transparent 0.0%);\n",
       "        }    #T_ee1c216c_91d7_11e9_a08c_b8ee654a1990row2_col8 {\n",
       "            width:  10em;\n",
       "             height:  80%;\n",
       "            background:  linear-gradient(90deg,#d65f5f 0.5%, transparent 0.5%);\n",
       "        }    #T_ee1c216c_91d7_11e9_a08c_b8ee654a1990row3_col8 {\n",
       "            width:  10em;\n",
       "             height:  80%;\n",
       "            background:  linear-gradient(90deg,#d65f5f 3.5%, transparent 3.5%);\n",
       "        }    #T_ee1c216c_91d7_11e9_a08c_b8ee654a1990row4_col8 {\n",
       "            width:  10em;\n",
       "             height:  80%;\n",
       "            background:  linear-gradient(90deg,#d65f5f 14.6%, transparent 14.6%);\n",
       "        }    #T_ee1c216c_91d7_11e9_a08c_b8ee654a1990row5_col8 {\n",
       "            width:  10em;\n",
       "             height:  80%;\n",
       "            background:  linear-gradient(90deg,#d65f5f 40.0%, transparent 40.0%);\n",
       "        }    #T_ee1c216c_91d7_11e9_a08c_b8ee654a1990row6_col8 {\n",
       "            width:  10em;\n",
       "             height:  80%;\n",
       "            background:  linear-gradient(90deg,#d65f5f 77.3%, transparent 77.3%);\n",
       "        }    #T_ee1c216c_91d7_11e9_a08c_b8ee654a1990row7_col8 {\n",
       "            width:  10em;\n",
       "             height:  80%;\n",
       "            background:  linear-gradient(90deg,#d65f5f 100.0%, transparent 100.0%);\n",
       "        }    #T_ee1c216c_91d7_11e9_a08c_b8ee654a1990row8_col8 {\n",
       "            width:  10em;\n",
       "             height:  80%;\n",
       "            background:  linear-gradient(90deg,#d65f5f 64.1%, transparent 64.1%);\n",
       "        }</style><table id=\"T_ee1c216c_91d7_11e9_a08c_b8ee654a1990\" ><thead>    <tr>        <th class=\"blank level0\" ></th>        <th class=\"col_heading level0 col0\" >0</th>        <th class=\"col_heading level0 col1\" >1</th>        <th class=\"col_heading level0 col2\" >2</th>        <th class=\"col_heading level0 col3\" >3</th>        <th class=\"col_heading level0 col4\" >4</th>        <th class=\"col_heading level0 col5\" >5</th>        <th class=\"col_heading level0 col6\" >6</th>        <th class=\"col_heading level0 col7\" >7</th>        <th class=\"col_heading level0 col8\" >8</th>        <th class=\"col_heading level0 col9\" >9</th>        <th class=\"col_heading level0 col10\" >10</th>        <th class=\"col_heading level0 col11\" >ALL</th>    </tr>    <tr>        <th class=\"index_name level0\" >p</th>        <th class=\"blank\" ></th>        <th class=\"blank\" ></th>        <th class=\"blank\" ></th>        <th class=\"blank\" ></th>        <th class=\"blank\" ></th>        <th class=\"blank\" ></th>        <th class=\"blank\" ></th>        <th class=\"blank\" ></th>        <th class=\"blank\" ></th>        <th class=\"blank\" ></th>        <th class=\"blank\" ></th>        <th class=\"blank\" ></th>    </tr></thead><tbody>\n",
       "                <tr>\n",
       "                        <th id=\"T_ee1c216c_91d7_11e9_a08c_b8ee654a1990level0_row0\" class=\"row_heading level0 row0\" >0.1</th>\n",
       "                        <td id=\"T_ee1c216c_91d7_11e9_a08c_b8ee654a1990row0_col0\" class=\"data row0 col0\" >34.8678</td>\n",
       "                        <td id=\"T_ee1c216c_91d7_11e9_a08c_b8ee654a1990row0_col1\" class=\"data row0 col1\" >38.742</td>\n",
       "                        <td id=\"T_ee1c216c_91d7_11e9_a08c_b8ee654a1990row0_col2\" class=\"data row0 col2\" >19.371</td>\n",
       "                        <td id=\"T_ee1c216c_91d7_11e9_a08c_b8ee654a1990row0_col3\" class=\"data row0 col3\" >5.73956</td>\n",
       "                        <td id=\"T_ee1c216c_91d7_11e9_a08c_b8ee654a1990row0_col4\" class=\"data row0 col4\" >1.11603</td>\n",
       "                        <td id=\"T_ee1c216c_91d7_11e9_a08c_b8ee654a1990row0_col5\" class=\"data row0 col5\" >0.148803</td>\n",
       "                        <td id=\"T_ee1c216c_91d7_11e9_a08c_b8ee654a1990row0_col6\" class=\"data row0 col6\" >0.0137781</td>\n",
       "                        <td id=\"T_ee1c216c_91d7_11e9_a08c_b8ee654a1990row0_col7\" class=\"data row0 col7\" >0.0008748</td>\n",
       "                        <td id=\"T_ee1c216c_91d7_11e9_a08c_b8ee654a1990row0_col8\" class=\"data row0 col8\" >3.645e-05</td>\n",
       "                        <td id=\"T_ee1c216c_91d7_11e9_a08c_b8ee654a1990row0_col9\" class=\"data row0 col9\" >9e-07</td>\n",
       "                        <td id=\"T_ee1c216c_91d7_11e9_a08c_b8ee654a1990row0_col10\" class=\"data row0 col10\" >1e-08</td>\n",
       "                        <td id=\"T_ee1c216c_91d7_11e9_a08c_b8ee654a1990row0_col11\" class=\"data row0 col11\" >100</td>\n",
       "            </tr>\n",
       "            <tr>\n",
       "                        <th id=\"T_ee1c216c_91d7_11e9_a08c_b8ee654a1990level0_row1\" class=\"row_heading level0 row1\" >0.2</th>\n",
       "                        <td id=\"T_ee1c216c_91d7_11e9_a08c_b8ee654a1990row1_col0\" class=\"data row1 col0\" >10.7374</td>\n",
       "                        <td id=\"T_ee1c216c_91d7_11e9_a08c_b8ee654a1990row1_col1\" class=\"data row1 col1\" >26.8435</td>\n",
       "                        <td id=\"T_ee1c216c_91d7_11e9_a08c_b8ee654a1990row1_col2\" class=\"data row1 col2\" >30.199</td>\n",
       "                        <td id=\"T_ee1c216c_91d7_11e9_a08c_b8ee654a1990row1_col3\" class=\"data row1 col3\" >20.1327</td>\n",
       "                        <td id=\"T_ee1c216c_91d7_11e9_a08c_b8ee654a1990row1_col4\" class=\"data row1 col4\" >8.80804</td>\n",
       "                        <td id=\"T_ee1c216c_91d7_11e9_a08c_b8ee654a1990row1_col5\" class=\"data row1 col5\" >2.64241</td>\n",
       "                        <td id=\"T_ee1c216c_91d7_11e9_a08c_b8ee654a1990row1_col6\" class=\"data row1 col6\" >0.550502</td>\n",
       "                        <td id=\"T_ee1c216c_91d7_11e9_a08c_b8ee654a1990row1_col7\" class=\"data row1 col7\" >0.0786432</td>\n",
       "                        <td id=\"T_ee1c216c_91d7_11e9_a08c_b8ee654a1990row1_col8\" class=\"data row1 col8\" >0.0073728</td>\n",
       "                        <td id=\"T_ee1c216c_91d7_11e9_a08c_b8ee654a1990row1_col9\" class=\"data row1 col9\" >0.0004096</td>\n",
       "                        <td id=\"T_ee1c216c_91d7_11e9_a08c_b8ee654a1990row1_col10\" class=\"data row1 col10\" >1.024e-05</td>\n",
       "                        <td id=\"T_ee1c216c_91d7_11e9_a08c_b8ee654a1990row1_col11\" class=\"data row1 col11\" >100</td>\n",
       "            </tr>\n",
       "            <tr>\n",
       "                        <th id=\"T_ee1c216c_91d7_11e9_a08c_b8ee654a1990level0_row2\" class=\"row_heading level0 row2\" >0.3</th>\n",
       "                        <td id=\"T_ee1c216c_91d7_11e9_a08c_b8ee654a1990row2_col0\" class=\"data row2 col0\" >2.82475</td>\n",
       "                        <td id=\"T_ee1c216c_91d7_11e9_a08c_b8ee654a1990row2_col1\" class=\"data row2 col1\" >12.1061</td>\n",
       "                        <td id=\"T_ee1c216c_91d7_11e9_a08c_b8ee654a1990row2_col2\" class=\"data row2 col2\" >23.3474</td>\n",
       "                        <td id=\"T_ee1c216c_91d7_11e9_a08c_b8ee654a1990row2_col3\" class=\"data row2 col3\" >26.6828</td>\n",
       "                        <td id=\"T_ee1c216c_91d7_11e9_a08c_b8ee654a1990row2_col4\" class=\"data row2 col4\" >20.0121</td>\n",
       "                        <td id=\"T_ee1c216c_91d7_11e9_a08c_b8ee654a1990row2_col5\" class=\"data row2 col5\" >10.2919</td>\n",
       "                        <td id=\"T_ee1c216c_91d7_11e9_a08c_b8ee654a1990row2_col6\" class=\"data row2 col6\" >3.67569</td>\n",
       "                        <td id=\"T_ee1c216c_91d7_11e9_a08c_b8ee654a1990row2_col7\" class=\"data row2 col7\" >0.900169</td>\n",
       "                        <td id=\"T_ee1c216c_91d7_11e9_a08c_b8ee654a1990row2_col8\" class=\"data row2 col8\" >0.14467</td>\n",
       "                        <td id=\"T_ee1c216c_91d7_11e9_a08c_b8ee654a1990row2_col9\" class=\"data row2 col9\" >0.0137781</td>\n",
       "                        <td id=\"T_ee1c216c_91d7_11e9_a08c_b8ee654a1990row2_col10\" class=\"data row2 col10\" >0.00059049</td>\n",
       "                        <td id=\"T_ee1c216c_91d7_11e9_a08c_b8ee654a1990row2_col11\" class=\"data row2 col11\" >100</td>\n",
       "            </tr>\n",
       "            <tr>\n",
       "                        <th id=\"T_ee1c216c_91d7_11e9_a08c_b8ee654a1990level0_row3\" class=\"row_heading level0 row3\" >0.4</th>\n",
       "                        <td id=\"T_ee1c216c_91d7_11e9_a08c_b8ee654a1990row3_col0\" class=\"data row3 col0\" >0.604662</td>\n",
       "                        <td id=\"T_ee1c216c_91d7_11e9_a08c_b8ee654a1990row3_col1\" class=\"data row3 col1\" >4.03108</td>\n",
       "                        <td id=\"T_ee1c216c_91d7_11e9_a08c_b8ee654a1990row3_col2\" class=\"data row3 col2\" >12.0932</td>\n",
       "                        <td id=\"T_ee1c216c_91d7_11e9_a08c_b8ee654a1990row3_col3\" class=\"data row3 col3\" >21.4991</td>\n",
       "                        <td id=\"T_ee1c216c_91d7_11e9_a08c_b8ee654a1990row3_col4\" class=\"data row3 col4\" >25.0823</td>\n",
       "                        <td id=\"T_ee1c216c_91d7_11e9_a08c_b8ee654a1990row3_col5\" class=\"data row3 col5\" >20.0658</td>\n",
       "                        <td id=\"T_ee1c216c_91d7_11e9_a08c_b8ee654a1990row3_col6\" class=\"data row3 col6\" >11.1477</td>\n",
       "                        <td id=\"T_ee1c216c_91d7_11e9_a08c_b8ee654a1990row3_col7\" class=\"data row3 col7\" >4.24673</td>\n",
       "                        <td id=\"T_ee1c216c_91d7_11e9_a08c_b8ee654a1990row3_col8\" class=\"data row3 col8\" >1.06168</td>\n",
       "                        <td id=\"T_ee1c216c_91d7_11e9_a08c_b8ee654a1990row3_col9\" class=\"data row3 col9\" >0.157286</td>\n",
       "                        <td id=\"T_ee1c216c_91d7_11e9_a08c_b8ee654a1990row3_col10\" class=\"data row3 col10\" >0.0104858</td>\n",
       "                        <td id=\"T_ee1c216c_91d7_11e9_a08c_b8ee654a1990row3_col11\" class=\"data row3 col11\" >100</td>\n",
       "            </tr>\n",
       "            <tr>\n",
       "                        <th id=\"T_ee1c216c_91d7_11e9_a08c_b8ee654a1990level0_row4\" class=\"row_heading level0 row4\" >0.5</th>\n",
       "                        <td id=\"T_ee1c216c_91d7_11e9_a08c_b8ee654a1990row4_col0\" class=\"data row4 col0\" >0.0976562</td>\n",
       "                        <td id=\"T_ee1c216c_91d7_11e9_a08c_b8ee654a1990row4_col1\" class=\"data row4 col1\" >0.976562</td>\n",
       "                        <td id=\"T_ee1c216c_91d7_11e9_a08c_b8ee654a1990row4_col2\" class=\"data row4 col2\" >4.39453</td>\n",
       "                        <td id=\"T_ee1c216c_91d7_11e9_a08c_b8ee654a1990row4_col3\" class=\"data row4 col3\" >11.7188</td>\n",
       "                        <td id=\"T_ee1c216c_91d7_11e9_a08c_b8ee654a1990row4_col4\" class=\"data row4 col4\" >20.5078</td>\n",
       "                        <td id=\"T_ee1c216c_91d7_11e9_a08c_b8ee654a1990row4_col5\" class=\"data row4 col5\" >24.6094</td>\n",
       "                        <td id=\"T_ee1c216c_91d7_11e9_a08c_b8ee654a1990row4_col6\" class=\"data row4 col6\" >20.5078</td>\n",
       "                        <td id=\"T_ee1c216c_91d7_11e9_a08c_b8ee654a1990row4_col7\" class=\"data row4 col7\" >11.7188</td>\n",
       "                        <td id=\"T_ee1c216c_91d7_11e9_a08c_b8ee654a1990row4_col8\" class=\"data row4 col8\" >4.39453</td>\n",
       "                        <td id=\"T_ee1c216c_91d7_11e9_a08c_b8ee654a1990row4_col9\" class=\"data row4 col9\" >0.976562</td>\n",
       "                        <td id=\"T_ee1c216c_91d7_11e9_a08c_b8ee654a1990row4_col10\" class=\"data row4 col10\" >0.0976562</td>\n",
       "                        <td id=\"T_ee1c216c_91d7_11e9_a08c_b8ee654a1990row4_col11\" class=\"data row4 col11\" >100</td>\n",
       "            </tr>\n",
       "            <tr>\n",
       "                        <th id=\"T_ee1c216c_91d7_11e9_a08c_b8ee654a1990level0_row5\" class=\"row_heading level0 row5\" >0.6</th>\n",
       "                        <td id=\"T_ee1c216c_91d7_11e9_a08c_b8ee654a1990row5_col0\" class=\"data row5 col0\" >0.0104858</td>\n",
       "                        <td id=\"T_ee1c216c_91d7_11e9_a08c_b8ee654a1990row5_col1\" class=\"data row5 col1\" >0.157286</td>\n",
       "                        <td id=\"T_ee1c216c_91d7_11e9_a08c_b8ee654a1990row5_col2\" class=\"data row5 col2\" >1.06168</td>\n",
       "                        <td id=\"T_ee1c216c_91d7_11e9_a08c_b8ee654a1990row5_col3\" class=\"data row5 col3\" >4.24673</td>\n",
       "                        <td id=\"T_ee1c216c_91d7_11e9_a08c_b8ee654a1990row5_col4\" class=\"data row5 col4\" >11.1477</td>\n",
       "                        <td id=\"T_ee1c216c_91d7_11e9_a08c_b8ee654a1990row5_col5\" class=\"data row5 col5\" >20.0658</td>\n",
       "                        <td id=\"T_ee1c216c_91d7_11e9_a08c_b8ee654a1990row5_col6\" class=\"data row5 col6\" >25.0823</td>\n",
       "                        <td id=\"T_ee1c216c_91d7_11e9_a08c_b8ee654a1990row5_col7\" class=\"data row5 col7\" >21.4991</td>\n",
       "                        <td id=\"T_ee1c216c_91d7_11e9_a08c_b8ee654a1990row5_col8\" class=\"data row5 col8\" >12.0932</td>\n",
       "                        <td id=\"T_ee1c216c_91d7_11e9_a08c_b8ee654a1990row5_col9\" class=\"data row5 col9\" >4.03108</td>\n",
       "                        <td id=\"T_ee1c216c_91d7_11e9_a08c_b8ee654a1990row5_col10\" class=\"data row5 col10\" >0.604662</td>\n",
       "                        <td id=\"T_ee1c216c_91d7_11e9_a08c_b8ee654a1990row5_col11\" class=\"data row5 col11\" >100</td>\n",
       "            </tr>\n",
       "            <tr>\n",
       "                        <th id=\"T_ee1c216c_91d7_11e9_a08c_b8ee654a1990level0_row6\" class=\"row_heading level0 row6\" >0.7</th>\n",
       "                        <td id=\"T_ee1c216c_91d7_11e9_a08c_b8ee654a1990row6_col0\" class=\"data row6 col0\" >0.00059049</td>\n",
       "                        <td id=\"T_ee1c216c_91d7_11e9_a08c_b8ee654a1990row6_col1\" class=\"data row6 col1\" >0.0137781</td>\n",
       "                        <td id=\"T_ee1c216c_91d7_11e9_a08c_b8ee654a1990row6_col2\" class=\"data row6 col2\" >0.14467</td>\n",
       "                        <td id=\"T_ee1c216c_91d7_11e9_a08c_b8ee654a1990row6_col3\" class=\"data row6 col3\" >0.900169</td>\n",
       "                        <td id=\"T_ee1c216c_91d7_11e9_a08c_b8ee654a1990row6_col4\" class=\"data row6 col4\" >3.67569</td>\n",
       "                        <td id=\"T_ee1c216c_91d7_11e9_a08c_b8ee654a1990row6_col5\" class=\"data row6 col5\" >10.2919</td>\n",
       "                        <td id=\"T_ee1c216c_91d7_11e9_a08c_b8ee654a1990row6_col6\" class=\"data row6 col6\" >20.0121</td>\n",
       "                        <td id=\"T_ee1c216c_91d7_11e9_a08c_b8ee654a1990row6_col7\" class=\"data row6 col7\" >26.6828</td>\n",
       "                        <td id=\"T_ee1c216c_91d7_11e9_a08c_b8ee654a1990row6_col8\" class=\"data row6 col8\" >23.3474</td>\n",
       "                        <td id=\"T_ee1c216c_91d7_11e9_a08c_b8ee654a1990row6_col9\" class=\"data row6 col9\" >12.1061</td>\n",
       "                        <td id=\"T_ee1c216c_91d7_11e9_a08c_b8ee654a1990row6_col10\" class=\"data row6 col10\" >2.82475</td>\n",
       "                        <td id=\"T_ee1c216c_91d7_11e9_a08c_b8ee654a1990row6_col11\" class=\"data row6 col11\" >100</td>\n",
       "            </tr>\n",
       "            <tr>\n",
       "                        <th id=\"T_ee1c216c_91d7_11e9_a08c_b8ee654a1990level0_row7\" class=\"row_heading level0 row7\" >0.8</th>\n",
       "                        <td id=\"T_ee1c216c_91d7_11e9_a08c_b8ee654a1990row7_col0\" class=\"data row7 col0\" >1.024e-05</td>\n",
       "                        <td id=\"T_ee1c216c_91d7_11e9_a08c_b8ee654a1990row7_col1\" class=\"data row7 col1\" >0.0004096</td>\n",
       "                        <td id=\"T_ee1c216c_91d7_11e9_a08c_b8ee654a1990row7_col2\" class=\"data row7 col2\" >0.0073728</td>\n",
       "                        <td id=\"T_ee1c216c_91d7_11e9_a08c_b8ee654a1990row7_col3\" class=\"data row7 col3\" >0.0786432</td>\n",
       "                        <td id=\"T_ee1c216c_91d7_11e9_a08c_b8ee654a1990row7_col4\" class=\"data row7 col4\" >0.550502</td>\n",
       "                        <td id=\"T_ee1c216c_91d7_11e9_a08c_b8ee654a1990row7_col5\" class=\"data row7 col5\" >2.64241</td>\n",
       "                        <td id=\"T_ee1c216c_91d7_11e9_a08c_b8ee654a1990row7_col6\" class=\"data row7 col6\" >8.80804</td>\n",
       "                        <td id=\"T_ee1c216c_91d7_11e9_a08c_b8ee654a1990row7_col7\" class=\"data row7 col7\" >20.1327</td>\n",
       "                        <td id=\"T_ee1c216c_91d7_11e9_a08c_b8ee654a1990row7_col8\" class=\"data row7 col8\" >30.199</td>\n",
       "                        <td id=\"T_ee1c216c_91d7_11e9_a08c_b8ee654a1990row7_col9\" class=\"data row7 col9\" >26.8435</td>\n",
       "                        <td id=\"T_ee1c216c_91d7_11e9_a08c_b8ee654a1990row7_col10\" class=\"data row7 col10\" >10.7374</td>\n",
       "                        <td id=\"T_ee1c216c_91d7_11e9_a08c_b8ee654a1990row7_col11\" class=\"data row7 col11\" >100</td>\n",
       "            </tr>\n",
       "            <tr>\n",
       "                        <th id=\"T_ee1c216c_91d7_11e9_a08c_b8ee654a1990level0_row8\" class=\"row_heading level0 row8\" >0.9</th>\n",
       "                        <td id=\"T_ee1c216c_91d7_11e9_a08c_b8ee654a1990row8_col0\" class=\"data row8 col0\" >1e-08</td>\n",
       "                        <td id=\"T_ee1c216c_91d7_11e9_a08c_b8ee654a1990row8_col1\" class=\"data row8 col1\" >9e-07</td>\n",
       "                        <td id=\"T_ee1c216c_91d7_11e9_a08c_b8ee654a1990row8_col2\" class=\"data row8 col2\" >3.645e-05</td>\n",
       "                        <td id=\"T_ee1c216c_91d7_11e9_a08c_b8ee654a1990row8_col3\" class=\"data row8 col3\" >0.0008748</td>\n",
       "                        <td id=\"T_ee1c216c_91d7_11e9_a08c_b8ee654a1990row8_col4\" class=\"data row8 col4\" >0.0137781</td>\n",
       "                        <td id=\"T_ee1c216c_91d7_11e9_a08c_b8ee654a1990row8_col5\" class=\"data row8 col5\" >0.148803</td>\n",
       "                        <td id=\"T_ee1c216c_91d7_11e9_a08c_b8ee654a1990row8_col6\" class=\"data row8 col6\" >1.11603</td>\n",
       "                        <td id=\"T_ee1c216c_91d7_11e9_a08c_b8ee654a1990row8_col7\" class=\"data row8 col7\" >5.73956</td>\n",
       "                        <td id=\"T_ee1c216c_91d7_11e9_a08c_b8ee654a1990row8_col8\" class=\"data row8 col8\" >19.371</td>\n",
       "                        <td id=\"T_ee1c216c_91d7_11e9_a08c_b8ee654a1990row8_col9\" class=\"data row8 col9\" >38.742</td>\n",
       "                        <td id=\"T_ee1c216c_91d7_11e9_a08c_b8ee654a1990row8_col10\" class=\"data row8 col10\" >34.8678</td>\n",
       "                        <td id=\"T_ee1c216c_91d7_11e9_a08c_b8ee654a1990row8_col11\" class=\"data row8 col11\" >100</td>\n",
       "            </tr>\n",
       "    </tbody></table>"
      ],
      "text/plain": [
       "<pandas.io.formats.style.Styler at 0x55fcd6f128>"
      ]
     },
     "execution_count": 3,
     "metadata": {},
     "output_type": "execute_result"
    }
   ],
   "source": [
    "matrix = pd.DataFrame(p_list)\n",
    "matrix.columns = [\"p\"]\n",
    "for k in k_list:\n",
    "    #pの下での、kの発生確率を計算する（ベルヌーイ試行を10回行う二項分布）\n",
    "    matrix[k] = comb(N, k, exact=True)*(matrix[\"p\"]**k)*((1-matrix[\"p\"]))**(N-k)*100\n",
    "matrix = matrix.set_index(\"p\")\n",
    "matrix[\"ALL\"] = matrix.sum(axis=1)\n",
    "matrix.style.bar(subset=[8], color='#d65f5f')"
   ]
  },
  {
   "cell_type": "code",
   "execution_count": null,
   "metadata": {},
   "outputs": [],
   "source": []
  },
  {
   "cell_type": "markdown",
   "metadata": {},
   "source": [
    "【確率（上表を横向きに見る考え方）】とあるパラメータ（ここでは p=0.1~0.9）の分布の下で、コインの表が出る回数（k=0~10）の得られやすさ。確率なので合計は1（上表の横合計）"
   ]
  },
  {
   "cell_type": "markdown",
   "metadata": {},
   "source": [
    "【尤度（上表を縦向きに見る考え方）】とある観測データ（ここではコインの表が出る回数 k=0~10）が得られたとき、パラメータ（ここでは p=0.1~0.9）ごとの、そのデータが得られることに対する尤もらしさ"
   ]
  },
  {
   "cell_type": "markdown",
   "metadata": {},
   "source": [
    "【最尤法】得られたデータに対して、尤度が最も高くなるパラメータの推定値を計算して探す手法"
   ]
  },
  {
   "cell_type": "markdown",
   "metadata": {},
   "source": [
    "**今回の例では、コインを10回投げて表が8回出たときの、表が出る確率 p の最尤推定値は 0.8**"
   ]
  },
  {
   "cell_type": "markdown",
   "metadata": {},
   "source": [
    "#### 計算でやってみる（尤度関数の最大化 ⇒ 実際は、負の対数尤度関数の最小化）"
   ]
  },
  {
   "cell_type": "code",
   "execution_count": 4,
   "metadata": {},
   "outputs": [
    {
     "data": {
      "text/plain": [
       "dtype('float64')"
      ]
     },
     "execution_count": 4,
     "metadata": {},
     "output_type": "execute_result"
    }
   ],
   "source": [
    "#10回中8回表が出たデータ\n",
    "X = np.array([0.,1.,1.,1.,0.,1.,1.,1.,1.,1.])\n",
    "X.dtype"
   ]
  },
  {
   "cell_type": "code",
   "execution_count": 5,
   "metadata": {},
   "outputs": [],
   "source": [
    "#負の対数尤度関数\n",
    "def log_likelihood(p, X):\n",
    "    return -1.* np.sum(X*np.log(p)+(1.-X)*np.log(1.-p))"
   ]
  },
  {
   "cell_type": "code",
   "execution_count": 6,
   "metadata": {},
   "outputs": [],
   "source": [
    "from scipy import optimize\n",
    "from functools import partial"
   ]
  },
  {
   "cell_type": "code",
   "execution_count": 7,
   "metadata": {},
   "outputs": [
    {
     "name": "stdout",
     "output_type": "stream",
     "text": [
      "Maximal Likelihood Estimator = 0.8000000000000009\n"
     ]
    }
   ],
   "source": [
    "#最小化\n",
    "partial_func = partial(log_likelihood, X=X)\n",
    "MLE = optimize.minimize(partial_func, 0.5, method='nelder-mead')\n",
    "print(f\"Maximal Likelihood Estimator = {MLE['x'][0]}\")"
   ]
  },
  {
   "cell_type": "code",
   "execution_count": null,
   "metadata": {},
   "outputs": [],
   "source": []
  },
  {
   "cell_type": "markdown",
   "metadata": {},
   "source": [
    "### 正規分布"
   ]
  },
  {
   "cell_type": "markdown",
   "metadata": {},
   "source": [
    "#### 計算でやってみる"
   ]
  },
  {
   "cell_type": "code",
   "execution_count": 8,
   "metadata": {},
   "outputs": [
    {
     "data": {
      "text/plain": [
       "dtype('float64')"
      ]
     },
     "execution_count": 8,
     "metadata": {},
     "output_type": "execute_result"
    }
   ],
   "source": [
    "#正規乱数でデータを取得\n",
    "X = np.random.normal(50, 30, 10)\n",
    "X.dtype"
   ]
  },
  {
   "cell_type": "code",
   "execution_count": 9,
   "metadata": {},
   "outputs": [
    {
     "name": "stdout",
     "output_type": "stream",
     "text": [
      "mean = 35.34261915486313\n",
      "unbiased variance = 944.8823398748835\n",
      "biased variance = 850.3941058873952\n"
     ]
    }
   ],
   "source": [
    "#あらかじめ、妥当な推定量だと分かっている標本平均、不偏分散、標本分散を計算しておく\n",
    "print(f\"mean = {np.mean(X)}\")\n",
    "print(f\"unbiased variance = {sum(np.square(X-np.mean(X)))/(N-1)}\")\n",
    "print(f\"biased variance = {sum(np.square(X-np.mean(X)))/N}\")"
   ]
  },
  {
   "cell_type": "code",
   "execution_count": 10,
   "metadata": {},
   "outputs": [],
   "source": [
    "#負の対数尤度関数\n",
    "def log_likelihood(params, X):\n",
    "    return -1.* (-len(X)*np.log(params[1]) - np.sum((X-params[0])**2 / (2*(params[1]**2))))"
   ]
  },
  {
   "cell_type": "code",
   "execution_count": 11,
   "metadata": {},
   "outputs": [
    {
     "name": "stdout",
     "output_type": "stream",
     "text": [
      "MLE(mu) = 35.342625109989655\n",
      "MLE(var) = 850.3920960366654\n"
     ]
    }
   ],
   "source": [
    "#最小化\n",
    "partial_func = partial(log_likelihood, X=X)\n",
    "MLE = optimize.minimize(partial_func, [100, 100], method='nelder-mead')\n",
    "print(f\"MLE(mu) = {MLE['x'][0]}\")\n",
    "print(f\"MLE(var) = {MLE['x'][1]**2}\")"
   ]
  },
  {
   "cell_type": "code",
   "execution_count": null,
   "metadata": {},
   "outputs": [],
   "source": []
  },
  {
   "cell_type": "markdown",
   "metadata": {},
   "source": [
    "正規分布の母平均に対する最尤推定量は、標本平均と一致した</br>\n",
    "正規分布の母分散に対する最尤推定量は、標本分散と一致した（不偏分散ではない）"
   ]
  },
  {
   "cell_type": "code",
   "execution_count": null,
   "metadata": {},
   "outputs": [],
   "source": []
  },
  {
   "cell_type": "markdown",
   "metadata": {},
   "source": [
    "### 最尤推定量の性質"
   ]
  },
  {
   "cell_type": "markdown",
   "metadata": {},
   "source": [
    "これまでは、具体的なデータを与えて最尤推定値を求めることをしていた"
   ]
  },
  {
   "cell_type": "markdown",
   "metadata": {},
   "source": [
    "尤度関数さえ特定すれば、それを最大化するパラメータは最尤推定量である"
   ]
  },
  {
   "cell_type": "markdown",
   "metadata": {},
   "source": [
    "最尤推定量にも、前回資料の○○性のような性質が概ね備わっている（証明には立ち入らない）"
   ]
  },
  {
   "cell_type": "markdown",
   "metadata": {},
   "source": [
    "#### （一般の）最尤推定量の性質：メリット"
   ]
  },
  {
   "cell_type": "markdown",
   "metadata": {},
   "source": [
    "1. 一致推定量である\n",
    "2. 漸近的に不偏（一般に最尤推定量は不偏ではない）\n",
    "3. 一致推定量の中で漸近的に最小の分散を持つ（漸近的有効性）"
   ]
  },
  {
   "cell_type": "markdown",
   "metadata": {},
   "source": [
    "#### （一般の）最尤推定量の性質：デメリット？"
   ]
  },
  {
   "cell_type": "markdown",
   "metadata": {},
   "source": [
    "1. 分布の仮定が必要\n",
    "2. 小標本では不偏でない"
   ]
  },
  {
   "cell_type": "markdown",
   "metadata": {},
   "source": [
    "**最尤法は分布の仮定が正しければ、広い範囲のモデルのあらゆる推定量の中で、漸近的には最も良い推定方法**"
   ]
  },
  {
   "cell_type": "code",
   "execution_count": null,
   "metadata": {},
   "outputs": [],
   "source": []
  }
 ],
 "metadata": {
  "kernelspec": {
   "display_name": "Python 3",
   "language": "python",
   "name": "python3"
  },
  "language_info": {
   "codemirror_mode": {
    "name": "ipython",
    "version": 3
   },
   "file_extension": ".py",
   "mimetype": "text/x-python",
   "name": "python",
   "nbconvert_exporter": "python",
   "pygments_lexer": "ipython3",
   "version": "3.7.3"
  }
 },
 "nbformat": 4,
 "nbformat_minor": 2
}
